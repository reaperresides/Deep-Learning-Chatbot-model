{
 "cells": [
  {
   "cell_type": "markdown",
   "metadata": {},
   "source": [
    "# ML model"
   ]
  },
  {
   "cell_type": "code",
   "execution_count": 32,
   "metadata": {},
   "outputs": [],
   "source": [
    "import pandas as pd\n",
    "from sklearn.feature_extraction.text import TfidfVectorizer\n",
    "from sklearn.linear_model import PassiveAggressiveClassifier\n",
    "from sklearn.model_selection import train_test_split\n",
    "from sklearn.metrics import accuracy_score, confusion_matrix\n",
    "from sklearn.model_selection import cross_val_score\n",
    "from sklearn.naive_bayes import MultinomialNB"
   ]
  },
  {
   "cell_type": "code",
   "execution_count": 33,
   "metadata": {},
   "outputs": [],
   "source": [
    "import pickle\n",
    "features=pickle.load(open(\"projectfeatures.pkl\",\"rb\"))\n",
    "labels=pickle.load(open(\"projectlabels.pkl\",\"rb\"))"
   ]
  },
  {
   "cell_type": "code",
   "execution_count": 34,
   "metadata": {},
   "outputs": [],
   "source": [
    "def Randomize(feature,label):\n",
    "  global new_features,new_labels\n",
    "  feature=np.array(feature)\n",
    "  label=np.array(label)\n",
    "  np.random.seed(42)\n",
    "  new_index=np.random.permutation(len(feature))\n",
    "  new_features=feature[new_index]\n",
    "  new_labels=label[new_index]\n",
    "\n",
    "Randomize(features,labels)"
   ]
  },
  {
   "cell_type": "code",
   "execution_count": 36,
   "metadata": {},
   "outputs": [
    {
     "data": {
      "text/html": [
       "<div>\n",
       "<style scoped>\n",
       "    .dataframe tbody tr th:only-of-type {\n",
       "        vertical-align: middle;\n",
       "    }\n",
       "\n",
       "    .dataframe tbody tr th {\n",
       "        vertical-align: top;\n",
       "    }\n",
       "\n",
       "    .dataframe thead th {\n",
       "        text-align: right;\n",
       "    }\n",
       "</style>\n",
       "<table border=\"1\" class=\"dataframe\">\n",
       "  <thead>\n",
       "    <tr style=\"text-align: right;\">\n",
       "      <th></th>\n",
       "      <th>sentences</th>\n",
       "      <th>class</th>\n",
       "    </tr>\n",
       "  </thead>\n",
       "  <tbody>\n",
       "    <tr>\n",
       "      <th>0</th>\n",
       "      <td>list of streams in vishwatam</td>\n",
       "      <td>VWG-1</td>\n",
       "    </tr>\n",
       "    <tr>\n",
       "      <th>1</th>\n",
       "      <td>indala civil seats</td>\n",
       "      <td>IDC-4</td>\n",
       "    </tr>\n",
       "    <tr>\n",
       "      <th>2</th>\n",
       "      <td>dj sangvhi list of all courses</td>\n",
       "      <td>DJS-1</td>\n",
       "    </tr>\n",
       "    <tr>\n",
       "      <th>3</th>\n",
       "      <td>viva college BE electronics cutoff this year</td>\n",
       "      <td>VIVA-6</td>\n",
       "    </tr>\n",
       "    <tr>\n",
       "      <th>4</th>\n",
       "      <td>list of streams in rizwi</td>\n",
       "      <td>RW-1</td>\n",
       "    </tr>\n",
       "  </tbody>\n",
       "</table>\n",
       "</div>"
      ],
      "text/plain": [
       "                                      sentences   class\n",
       "0                  list of streams in vishwatam   VWG-1\n",
       "1                            indala civil seats   IDC-4\n",
       "2                dj sangvhi list of all courses   DJS-1\n",
       "3  viva college BE electronics cutoff this year  VIVA-6\n",
       "4                      list of streams in rizwi    RW-1"
      ]
     },
     "execution_count": 36,
     "metadata": {},
     "output_type": "execute_result"
    }
   ],
   "source": [
    "data=pd.DataFrame({\"sentences\":new_features,\"class\":new_labels})\n",
    "data.head()"
   ]
  },
  {
   "cell_type": "code",
   "execution_count": 61,
   "metadata": {},
   "outputs": [],
   "source": [
    "from nltk.stem import WordNetLemmatizer\n",
    "import re \n",
    "\n",
    "Lm=WordNetLemmatizer()\n",
    "\n",
    "corpus=[]\n",
    "for i in range(len(data[\"sentences\"])):\n",
    "  sentence=re.sub(\"[^a-zA-Z]\",\" \",data[\"sentences\"][i])\n",
    "  sentence=sentence.lower()\n",
    "  sentence=sentence.split()\n",
    "  sentence=[Lm.lemmatize(words) for words in sentence]\n",
    "  sentence=\" \".join(sentence)\n",
    "  corpus.append(sentence)\n",
    "corpus=np.array(corpus)\n",
    "data[\"corpus\"]=corpus"
   ]
  },
  {
   "cell_type": "code",
   "execution_count": 87,
   "metadata": {},
   "outputs": [
    {
     "data": {
      "text/html": [
       "<div>\n",
       "<style scoped>\n",
       "    .dataframe tbody tr th:only-of-type {\n",
       "        vertical-align: middle;\n",
       "    }\n",
       "\n",
       "    .dataframe tbody tr th {\n",
       "        vertical-align: top;\n",
       "    }\n",
       "\n",
       "    .dataframe thead th {\n",
       "        text-align: right;\n",
       "    }\n",
       "</style>\n",
       "<table border=\"1\" class=\"dataframe\">\n",
       "  <thead>\n",
       "    <tr style=\"text-align: right;\">\n",
       "      <th></th>\n",
       "      <th>sentences</th>\n",
       "      <th>class</th>\n",
       "      <th>corpus</th>\n",
       "    </tr>\n",
       "  </thead>\n",
       "  <tbody>\n",
       "    <tr>\n",
       "      <th>0</th>\n",
       "      <td>list of streams in vishwatam</td>\n",
       "      <td>0</td>\n",
       "      <td>list of stream in vishwatam</td>\n",
       "    </tr>\n",
       "    <tr>\n",
       "      <th>1</th>\n",
       "      <td>indala civil seats</td>\n",
       "      <td>1</td>\n",
       "      <td>indala civil seat</td>\n",
       "    </tr>\n",
       "    <tr>\n",
       "      <th>2</th>\n",
       "      <td>dj sangvhi list of all courses</td>\n",
       "      <td>2</td>\n",
       "      <td>dj sangvhi list of all course</td>\n",
       "    </tr>\n",
       "    <tr>\n",
       "      <th>3</th>\n",
       "      <td>viva college BE electronics cutoff this year</td>\n",
       "      <td>3</td>\n",
       "      <td>viva college be electronics cutoff this year</td>\n",
       "    </tr>\n",
       "    <tr>\n",
       "      <th>4</th>\n",
       "      <td>list of streams in rizwi</td>\n",
       "      <td>4</td>\n",
       "      <td>list of stream in rizwi</td>\n",
       "    </tr>\n",
       "  </tbody>\n",
       "</table>\n",
       "</div>"
      ],
      "text/plain": [
       "                                      sentences  class  \\\n",
       "0                  list of streams in vishwatam      0   \n",
       "1                            indala civil seats      1   \n",
       "2                dj sangvhi list of all courses      2   \n",
       "3  viva college BE electronics cutoff this year      3   \n",
       "4                      list of streams in rizwi      4   \n",
       "\n",
       "                                         corpus  \n",
       "0                   list of stream in vishwatam  \n",
       "1                             indala civil seat  \n",
       "2                 dj sangvhi list of all course  \n",
       "3  viva college be electronics cutoff this year  \n",
       "4                       list of stream in rizwi  "
      ]
     },
     "execution_count": 87,
     "metadata": {},
     "output_type": "execute_result"
    }
   ],
   "source": [
    "class_dic={code:i for i,code in enumerate(data[\"class\"].unique())}\n",
    "data[\"class\"]=data[\"class\"].map(class_dic)\n",
    "data.head()"
   ]
  },
  {
   "cell_type": "code",
   "execution_count": 164,
   "metadata": {},
   "outputs": [],
   "source": [
    "from imblearn.over_sampling import RandomOverSampler\n",
    "\n",
    "oversample=RandomOverSampler(sampling_strategy=\"all\")\n",
    "embedded_words_res,Y_data_res=oversample.fit_resample(data[\"corpus\"].values.reshape(-1,1),data[\"class\"].values.reshape(-1,1))"
   ]
  },
  {
   "cell_type": "code",
   "execution_count": 201,
   "metadata": {},
   "outputs": [
    {
     "data": {
      "text/html": [
       "<div>\n",
       "<style scoped>\n",
       "    .dataframe tbody tr th:only-of-type {\n",
       "        vertical-align: middle;\n",
       "    }\n",
       "\n",
       "    .dataframe tbody tr th {\n",
       "        vertical-align: top;\n",
       "    }\n",
       "\n",
       "    .dataframe thead th {\n",
       "        text-align: right;\n",
       "    }\n",
       "</style>\n",
       "<table border=\"1\" class=\"dataframe\">\n",
       "  <thead>\n",
       "    <tr style=\"text-align: right;\">\n",
       "      <th></th>\n",
       "      <th>features</th>\n",
       "      <th>labels</th>\n",
       "    </tr>\n",
       "  </thead>\n",
       "  <tbody>\n",
       "    <tr>\n",
       "      <th>0</th>\n",
       "      <td>list of stream in vishwatam</td>\n",
       "      <td>0</td>\n",
       "    </tr>\n",
       "    <tr>\n",
       "      <th>1</th>\n",
       "      <td>indala civil seat</td>\n",
       "      <td>1</td>\n",
       "    </tr>\n",
       "    <tr>\n",
       "      <th>2</th>\n",
       "      <td>dj sangvhi list of all course</td>\n",
       "      <td>2</td>\n",
       "    </tr>\n",
       "    <tr>\n",
       "      <th>3</th>\n",
       "      <td>viva college be electronics cutoff this year</td>\n",
       "      <td>3</td>\n",
       "    </tr>\n",
       "    <tr>\n",
       "      <th>4</th>\n",
       "      <td>list of stream in rizwi</td>\n",
       "      <td>4</td>\n",
       "    </tr>\n",
       "    <tr>\n",
       "      <th>...</th>\n",
       "      <td>...</td>\n",
       "      <td>...</td>\n",
       "    </tr>\n",
       "    <tr>\n",
       "      <th>6299</th>\n",
       "      <td>vidyavardhini civil seat</td>\n",
       "      <td>393</td>\n",
       "    </tr>\n",
       "    <tr>\n",
       "      <th>6300</th>\n",
       "      <td>civil seat in vidyavardhini</td>\n",
       "      <td>393</td>\n",
       "    </tr>\n",
       "    <tr>\n",
       "      <th>6301</th>\n",
       "      <td>vidyavardhini civil seat</td>\n",
       "      <td>393</td>\n",
       "    </tr>\n",
       "    <tr>\n",
       "      <th>6302</th>\n",
       "      <td>vidyavardhini be civil cutoff this year</td>\n",
       "      <td>393</td>\n",
       "    </tr>\n",
       "    <tr>\n",
       "      <th>6303</th>\n",
       "      <td>vidyavardhini be civil cutoff this year</td>\n",
       "      <td>393</td>\n",
       "    </tr>\n",
       "  </tbody>\n",
       "</table>\n",
       "<p>6304 rows × 2 columns</p>\n",
       "</div>"
      ],
      "text/plain": [
       "                                          features  labels\n",
       "0                      list of stream in vishwatam       0\n",
       "1                                indala civil seat       1\n",
       "2                    dj sangvhi list of all course       2\n",
       "3     viva college be electronics cutoff this year       3\n",
       "4                          list of stream in rizwi       4\n",
       "...                                            ...     ...\n",
       "6299                      vidyavardhini civil seat     393\n",
       "6300                   civil seat in vidyavardhini     393\n",
       "6301                      vidyavardhini civil seat     393\n",
       "6302       vidyavardhini be civil cutoff this year     393\n",
       "6303       vidyavardhini be civil cutoff this year     393\n",
       "\n",
       "[6304 rows x 2 columns]"
      ]
     },
     "execution_count": 201,
     "metadata": {},
     "output_type": "execute_result"
    }
   ],
   "source": [
    "df1=pd.DataFrame(embedded_words_res)\n",
    "df2=pd.DataFrame(Y_data_res)\n",
    "frames=[df1,df2]\n",
    "df0=pd.concat(frames,axis=1)\n",
    "df0.columns=[\"features\",\"labels\"]\n",
    "df0"
   ]
  },
  {
   "cell_type": "code",
   "execution_count": 202,
   "metadata": {},
   "outputs": [],
   "source": [
    "x_train,x_test,y_train,y_test=train_test_split(df0[\"features\"],df0[\"labels\"], test_size=0.25, random_state=7, shuffle=True)\n",
    "tfidf_vectorizer=TfidfVectorizer(stop_words='english', max_df=0.75)"
   ]
  },
  {
   "cell_type": "code",
   "execution_count": 203,
   "metadata": {},
   "outputs": [],
   "source": [
    "vec_train=tfidf_vectorizer.fit_transform(x_train.values.astype('U'))\n",
    "vec_test=tfidf_vectorizer.transform(x_test.values.astype('U'))"
   ]
  },
  {
   "cell_type": "code",
   "execution_count": 231,
   "metadata": {},
   "outputs": [
    {
     "name": "stderr",
     "output_type": "stream",
     "text": [
      "[Parallel(n_jobs=-1)]: Using backend LokyBackend with 2 concurrent workers.\n",
      "c:\\users\\user\\appdata\\local\\programs\\python\\python37\\lib\\site-packages\\sklearn\\model_selection\\_split.py:672: UserWarning: The least populated class in y has only 7 members, which is less than n_splits=10.\n",
      "  % (min_groups, self.n_splits)), UserWarning)\n",
      "[Parallel(n_jobs=-1)]: Done  10 out of  10 | elapsed:    0.6s finished\n"
     ]
    }
   ],
   "source": [
    "model=MultinomialNB(alpha=0.0002)\n",
    "model.fit(vec_train,y_train)\n",
    "score=cross_val_score(model,vec_train,y_train,cv=10,n_jobs=-1,scoring='accuracy',verbose=3)"
   ]
  },
  {
   "cell_type": "code",
   "execution_count": 236,
   "metadata": {},
   "outputs": [
    {
     "name": "stdout",
     "output_type": "stream",
     "text": [
      "accuracy_croos_val 0.9509325617228651\n"
     ]
    }
   ],
   "source": [
    "print(\"accuracy_croos_val\",score.mean())"
   ]
  },
  {
   "cell_type": "code",
   "execution_count": 237,
   "metadata": {},
   "outputs": [
    {
     "name": "stdout",
     "output_type": "stream",
     "text": [
      "accuracy: 0.9416243654822335\n"
     ]
    }
   ],
   "source": [
    "y=model.predict(vec_test)\n",
    "from sklearn.metrics import accuracy_score\n",
    "print(f\"accuracy: {accuracy_score(y_test,y)}\")"
   ]
  },
  {
   "cell_type": "code",
   "execution_count": 238,
   "metadata": {},
   "outputs": [
    {
     "name": "stdout",
     "output_type": "stream",
     "text": [
      "type anything: hi can you help me plzz\n",
      "  (0, 48)\t1.0\n",
      "(1, 128)\n",
      "[336]\n",
      "greeting\n",
      "type anything: show me courses offered in saboo siddik college\n",
      "  (0, 98)\t0.5752697681994885\n",
      "  (0, 89)\t0.5752697681994885\n",
      "  (0, 74)\t0.547274753138529\n",
      "  (0, 16)\t0.1965190376746622\n",
      "(1, 128)\n",
      "[261]\n",
      "MHSS-1\n",
      "type anything: what are the courses in tasgaonkar collge\n",
      "  (0, 103)\t1.0\n",
      "(1, 128)\n",
      "[234]\n",
      "TSG-6\n",
      "type anything: what are courses offered in tasgaonkar college\n",
      "  (0, 103)\t0.7140093903267133\n",
      "  (0, 74)\t0.6589408624990379\n",
      "  (0, 16)\t0.23661684271052885\n",
      "(1, 128)\n",
      "[238]\n",
      "TSG-1\n",
      "type anything: instrumental cut off of smt indira gandhi\n",
      "  (0, 100)\t0.4999979763940827\n",
      "  (0, 52)\t0.4806858776285225\n",
      "  (0, 51)\t0.4999979763940827\n",
      "  (0, 39)\t0.43726233086664074\n",
      "  (0, 20)\t0.27883111063368493\n",
      "(1, 128)\n",
      "[10]\n",
      "SMT-3\n",
      "type anything: sies Btech production cutoff this year\n",
      "  (0, 127)\t0.2916187112302949\n",
      "  (0, 99)\t0.5182143653065817\n",
      "  (0, 80)\t0.523096912159069\n",
      "  (0, 21)\t0.2916187112302949\n",
      "  (0, 13)\t0.536414528699874\n",
      "(1, 128)\n",
      "[389]\n",
      "SIES-3\n",
      "type anything: rajiv gandhi college BE instrumental cutoff this year \n",
      "  (0, 127)\t0.296829596376457\n",
      "  (0, 84)\t0.5489328337589112\n",
      "  (0, 52)\t0.518185750680076\n",
      "  (0, 39)\t0.47137459141113985\n",
      "  (0, 21)\t0.296829596376457\n",
      "  (0, 16)\t0.17817589010721324\n",
      "(1, 128)\n",
      "[91]\n",
      "RG-6\n",
      "type anything: rajiv gandhi college BE instrumental cutoff this year \n",
      "  (0, 127)\t0.296829596376457\n",
      "  (0, 84)\t0.5489328337589112\n",
      "  (0, 52)\t0.518185750680076\n",
      "  (0, 39)\t0.47137459141113985\n",
      "  (0, 21)\t0.296829596376457\n",
      "  (0, 16)\t0.17817589010721324\n",
      "(1, 128)\n",
      "[91]\n",
      "RG-6\n",
      "type anything: 1\n"
     ]
    }
   ],
   "source": [
    "while True:\n",
    "    sent=input(\"type anything: \")\n",
    "    if sent==\"1\":\n",
    "        break\n",
    "    else:\n",
    "        sent=[sent]\n",
    "        sent=np.array(sent).astype('U')\n",
    "        v=tfidf_vectorizer.transform(sent)\n",
    "        print(v)\n",
    "        print(v.shape)\n",
    "        y=model.predict(v)\n",
    "        print(y)\n",
    "        for i in y:\n",
    "            print(list(class_dic)[i])"
   ]
  },
  {
   "cell_type": "code",
   "execution_count": 239,
   "metadata": {},
   "outputs": [],
   "source": [
    "filename=\"projecttfidf.pkl\"\n",
    "pickle.dump(tfidf_vectorizer,open(filename,\"wb\"))\n",
    "\n",
    "filename=\"projectmodel.pkl\"\n",
    "pickle.dump(model,open(filename,\"wb\"))"
   ]
  },
  {
   "cell_type": "code",
   "execution_count": null,
   "metadata": {},
   "outputs": [],
   "source": []
  }
 ],
 "metadata": {
  "kernelspec": {
   "display_name": "Python 3",
   "language": "python",
   "name": "python3"
  },
  "language_info": {
   "codemirror_mode": {
    "name": "ipython",
    "version": 3
   },
   "file_extension": ".py",
   "mimetype": "text/x-python",
   "name": "python",
   "nbconvert_exporter": "python",
   "pygments_lexer": "ipython3",
   "version": "3.7.2"
  }
 },
 "nbformat": 4,
 "nbformat_minor": 4
}
