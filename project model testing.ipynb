{
 "cells": [
  {
   "cell_type": "markdown",
   "metadata": {},
   "source": [
    "# ML model testing"
   ]
  },
  {
   "cell_type": "code",
   "execution_count": 25,
   "metadata": {},
   "outputs": [],
   "source": [
    "import pickle\n",
    "model_test=pickle.load(open(\"projectmodel.pkl\",\"rb\"))\n",
    "tfidf=pickle.load(open(\"projecttfidf.pkl\",\"rb\"))"
   ]
  },
  {
   "cell_type": "code",
   "execution_count": 27,
   "metadata": {},
   "outputs": [
    {
     "name": "stdout",
     "output_type": "stream",
     "text": [
      "type anything: civil engineering colleges in mumbai\n",
      "  (0, 73)\t0.7959070873411167\n",
      "  (0, 33)\t0.370997523362156\n",
      "  (0, 15)\t0.4784273675066327\n",
      "(1, 128)\n",
      "[357]\n",
      "civil\n",
      "type anything: 1\n"
     ]
    }
   ],
   "source": [
    "import numpy as np\n",
    "\n",
    "while True:\n",
    "    sent=input(\"type anything: \")\n",
    "    if sent==\"1\":\n",
    "        break\n",
    "    else:\n",
    "        sent=[sent]\n",
    "        sent=np.array(sent).astype('U')\n",
    "        v=tfidf.transform(sent)\n",
    "        print(v)\n",
    "        print(v.shape)\n",
    "        y=model_test.predict(v)\n",
    "        print(y)\n",
    "        for i in y:\n",
    "            print(list(class_dic)[i])"
   ]
  },
  {
   "cell_type": "markdown",
   "metadata": {},
   "source": [
    "# DL model testing"
   ]
  },
  {
   "cell_type": "code",
   "execution_count": 5,
   "metadata": {},
   "outputs": [
    {
     "name": "stderr",
     "output_type": "stream",
     "text": [
      "c:\\users\\user\\appdata\\local\\programs\\python\\python37\\lib\\importlib\\_bootstrap.py:219: RuntimeWarning: numpy.ufunc size changed, may indicate binary incompatibility. Expected 192 from C header, got 216 from PyObject\n",
      "  return f(*args, **kwds)\n",
      "c:\\users\\user\\appdata\\local\\programs\\python\\python37\\lib\\importlib\\_bootstrap.py:219: RuntimeWarning: numpy.ufunc size changed, may indicate binary incompatibility. Expected 192 from C header, got 216 from PyObject\n",
      "  return f(*args, **kwds)\n",
      "c:\\users\\user\\appdata\\local\\programs\\python\\python37\\lib\\importlib\\_bootstrap.py:219: RuntimeWarning: numpy.ufunc size changed, may indicate binary incompatibility. Expected 192 from C header, got 216 from PyObject\n",
      "  return f(*args, **kwds)\n"
     ]
    }
   ],
   "source": [
    "import tensorflow as tf\n",
    "import numpy as np\n",
    "import tensorflow as tf\n",
    "from tensorflow.keras.preprocessing.text import one_hot\n",
    "from tensorflow.keras.preprocessing.sequence import pad_sequences\n",
    "import nltk\n",
    "from nltk.stem import WordNetLemmatizer\n",
    "import re \n",
    "\n",
    "Lm=WordNetLemmatizer()"
   ]
  },
  {
   "cell_type": "code",
   "execution_count": 8,
   "metadata": {},
   "outputs": [],
   "source": [
    "def Process(sent):\n",
    "        sent_length=12\n",
    "        vocab_size1=5000\n",
    "        review1=re.sub(\"[^a-zA-Z]\",\" \",sent)\n",
    "        review1=[review1.lower()]\n",
    "        print(review1)\n",
    "        reviews1=[Lm.lemmatize(words) for words in review1]\n",
    "        print(reviews1)\n",
    "        one_hot_words1=[one_hot(words,vocab_size1) for words in reviews1]\n",
    "        embedded_sent1=pad_sequences(one_hot_words1,padding=\"pre\",maxlen=sent_length)\n",
    "        print(embedded_sent1)\n",
    "        return embedded_sent1"
   ]
  },
  {
   "cell_type": "code",
   "execution_count": null,
   "metadata": {},
   "outputs": [],
   "source": [
    "\n",
    "if __name__==\"__main__\":\n",
    "    model_test=tf.keras.models.load_model(\"newprojectmodel123.h5\")\n",
    "    while True:\n",
    "        sent=input(\"type:\")\n",
    "        if sent==\"1\":\n",
    "            break\n",
    "        else:            \n",
    "            n=Process(sent)\n",
    "            y=model_test.predict_proba(n)\n",
    "            print(np.argmax(y))"
   ]
  },
  {
   "cell_type": "code",
   "execution_count": null,
   "metadata": {},
   "outputs": [],
   "source": []
  }
 ],
 "metadata": {
  "kernelspec": {
   "display_name": "Python 3",
   "language": "python",
   "name": "python3"
  },
  "language_info": {
   "codemirror_mode": {
    "name": "ipython",
    "version": 3
   },
   "file_extension": ".py",
   "mimetype": "text/x-python",
   "name": "python",
   "nbconvert_exporter": "python",
   "pygments_lexer": "ipython3",
   "version": "3.7.2"
  }
 },
 "nbformat": 4,
 "nbformat_minor": 4
}
